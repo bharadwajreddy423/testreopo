{
 "cells": [
  {
   "cell_type": "markdown",
   "id": "83f4e5bc-bf1c-4623-886c-267b6880fa3d",
   "metadata": {
    "tags": []
   },
   "source": [
    "# My Jupyter Notebook on IBM Watson Studio"
   ]
  },
  {
   "cell_type": "markdown",
   "id": "df4006c0-7eb5-4727-8556-e713fae36900",
   "metadata": {},
   "source": [
    "## Bharadwaj reddy"
   ]
  },
  {
   "cell_type": "markdown",
   "id": "19678aa5-789c-4aa5-9679-fe4a1664a6b2",
   "metadata": {},
   "source": [
    "### Data Scientist"
   ]
  },
  {
   "cell_type": "markdown",
   "id": "76e95cac-b758-493e-9045-8596f9466b68",
   "metadata": {},
   "source": [
    "*I am interested in Data science because I love to gain insights from Data*"
   ]
  },
  {
   "cell_type": "markdown",
   "id": "4e5c0c3c-e946-49db-a838-fb66f58f94bd",
   "metadata": {},
   "source": [
    "#### The following code Add the two intergers given as input from user"
   ]
  },
  {
   "cell_type": "code",
   "execution_count": 7,
   "id": "677b4f46-2ecb-4767-9fc0-9e2e2f533e69",
   "metadata": {},
   "outputs": [
    {
     "name": "stdin",
     "output_type": "stream",
     "text": [
      " 5\n",
      " 10\n"
     ]
    },
    {
     "name": "stdout",
     "output_type": "stream",
     "text": [
      "15\n"
     ]
    }
   ],
   "source": [
    "a = int(input())\n",
    "b = int(input())\n",
    "c = a+b\n",
    "print(c)"
   ]
  },
  {
   "cell_type": "markdown",
   "id": "fb301447-077f-4a4a-8752-23adf3ffef1c",
   "metadata": {},
   "source": [
    "* one\n",
    "* two\n",
    "* three\n",
    "* four\n",
    "* five \n",
    "* six"
   ]
  }
 ],
 "metadata": {
  "kernelspec": {
   "display_name": "Python",
   "language": "python",
   "name": "conda-env-python-py"
  },
  "language_info": {
   "codemirror_mode": {
    "name": "ipython",
    "version": 3
   },
   "file_extension": ".py",
   "mimetype": "text/x-python",
   "name": "python",
   "nbconvert_exporter": "python",
   "pygments_lexer": "ipython3",
   "version": "3.7.12"
  }
 },
 "nbformat": 4,
 "nbformat_minor": 5
}
